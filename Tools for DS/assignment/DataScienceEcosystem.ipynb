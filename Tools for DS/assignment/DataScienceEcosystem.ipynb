{
 "cells": [
  {
   "cell_type": "code",
   "execution_count": null,
   "id": "c428f86a-c4d8-45e3-81ed-7d092cbb12c1",
   "metadata": {},
   "outputs": [],
   "source": [
    "# Exercise 2: Create markdown cell with title of the notebook"
   ]
  },
  {
   "cell_type": "markdown",
   "id": "db20da88-953d-4f11-a55d-7fb65de41117",
   "metadata": {},
   "source": [
    "# Data Science Tools and Ecosystem"
   ]
  },
  {
   "cell_type": "code",
   "execution_count": 1,
   "id": "f8c4531c-aa57-4ac9-9f07-44cda1e98466",
   "metadata": {
    "tags": []
   },
   "outputs": [],
   "source": [
    "# Exercise 3 - Create a markdown cell for an introduction"
   ]
  },
  {
   "cell_type": "markdown",
   "id": "79fdd7bc-3e9c-480f-bcea-df641aad227d",
   "metadata": {},
   "source": [
    "## In this notebook, Data Science Tools and Ecosystem are summarized."
   ]
  },
  {
   "cell_type": "code",
   "execution_count": 25,
   "id": "a5e83e4a-8c7c-4f25-8d57-baa7fe2db483",
   "metadata": {
    "tags": []
   },
   "outputs": [],
   "source": [
    "# Exercise 10 - Insert a markdown cell to list Objectives"
   ]
  },
  {
   "cell_type": "markdown",
   "id": "29cd845d-aa56-4577-bdc3-214d6601eff9",
   "metadata": {},
   "source": [
    "**Objectives:**\n",
    "- List popular languages for Data Science\n",
    "- List popular libraries used by Data Scientist.\n",
    "- List Data Science Tools.\n",
    "- Evaluate arithmatic expressions in python.\n",
    "- Python code cell to convert minutes to hours."
   ]
  },
  {
   "cell_type": "code",
   "execution_count": 2,
   "id": "f18b45ab-e14e-45ff-8697-66a516bdacec",
   "metadata": {
    "tags": []
   },
   "outputs": [],
   "source": [
    "# Exercise 4 - Create a markdown cell to list data science languages"
   ]
  },
  {
   "cell_type": "markdown",
   "id": "7667b14f-a86e-4451-ae72-f680dcbc7ded",
   "metadata": {},
   "source": [
    " # Some of the popular languages that Data Scientists use are:\n",
    " 1. Python\n",
    " 2. R\n",
    " 3. Julia\n",
    " "
   ]
  },
  {
   "cell_type": "code",
   "execution_count": 3,
   "id": "ec3717f8-7e81-44df-ad59-e664cc5f69d1",
   "metadata": {
    "tags": []
   },
   "outputs": [],
   "source": [
    "# Exercise 5 - Create a markdown cell to list data science libraries"
   ]
  },
  {
   "cell_type": "markdown",
   "id": "43f796d9-71eb-403b-b22c-77f92ceb0b1d",
   "metadata": {},
   "source": [
    "## Some of the commonly used libraries used by Data Scientists include:\n",
    "1. Pandas\n",
    "2. NumPy\n",
    "3. Matplotlib\n",
    "4. PyTorch\n",
    "5. TensorFlow"
   ]
  },
  {
   "cell_type": "code",
   "execution_count": 4,
   "id": "be5d94a5-7e12-4e4f-9852-e08a8208436a",
   "metadata": {
    "tags": []
   },
   "outputs": [],
   "source": [
    "# Exercise 6 - Create a markdown cell with a table of Data Science tools"
   ]
  },
  {
   "cell_type": "markdown",
   "id": "b5673166-2087-4d9a-bcb5-8e5f3088bd4b",
   "metadata": {},
   "source": [
    "| Data Science Tools |\n",
    "| ------------------ |\n",
    "| Jupyter Notebook |\n",
    "| Weka |\n",
    "| RStudio |\n",
    "\n"
   ]
  },
  {
   "cell_type": "code",
   "execution_count": 5,
   "id": "bfad5415-34da-4ce1-b996-7a72b7f2cb95",
   "metadata": {
    "tags": []
   },
   "outputs": [],
   "source": [
    "# Exercise 7 - Create a markdown cell introducing arithmetic expression examples"
   ]
  },
  {
   "cell_type": "markdown",
   "id": "060bdc0d-37c7-468f-a250-92e2eca8bb09",
   "metadata": {},
   "source": [
    "### Below are a few examples of evaluating arithmetic expressions in Python"
   ]
  },
  {
   "cell_type": "code",
   "execution_count": 19,
   "id": "1e719bf7-3b82-4ff8-9273-6fd3fb2cb77b",
   "metadata": {
    "tags": []
   },
   "outputs": [],
   "source": [
    "# Exercise 8 - Create a code cell to multiply and add numbers"
   ]
  },
  {
   "cell_type": "code",
   "execution_count": 21,
   "id": "aa46db6b-3a36-4e5b-932c-d942dfc08613",
   "metadata": {
    "tags": []
   },
   "outputs": [
    {
     "data": {
      "text/plain": [
       "17"
      ]
     },
     "execution_count": 21,
     "metadata": {},
     "output_type": "execute_result"
    }
   ],
   "source": [
    "# This a simple arithmetic expression to mutiply then add integers\n",
    "(3*4)+5"
   ]
  },
  {
   "cell_type": "code",
   "execution_count": 22,
   "id": "1b2852e2-53f9-4286-a235-6fdb7de0dbe9",
   "metadata": {
    "tags": []
   },
   "outputs": [],
   "source": [
    "# Exercise 9 - Create a code cell to convert minutes to hours"
   ]
  },
  {
   "cell_type": "code",
   "execution_count": 24,
   "id": "e63ec5fb-0a5b-4844-8365-ab9e6ddeff18",
   "metadata": {
    "tags": []
   },
   "outputs": [
    {
     "data": {
      "text/plain": [
       "3.3333333333333335"
      ]
     },
     "execution_count": 24,
     "metadata": {},
     "output_type": "execute_result"
    }
   ],
   "source": [
    "# This will convert 200 minutes to hours by diving by 60\n",
    "200 / 60"
   ]
  },
  {
   "cell_type": "code",
   "execution_count": 26,
   "id": "400209fb-296e-4e23-be4f-c4af89cea78f",
   "metadata": {
    "tags": []
   },
   "outputs": [],
   "source": [
    "# Exercise 11 - Create a markdown cell to indicate the Author's name"
   ]
  },
  {
   "cell_type": "markdown",
   "id": "7c88a774-abdb-4053-8fac-91f29c9771f0",
   "metadata": {},
   "source": [
    "## Author\n",
    "Aniruddha Thorat\n"
   ]
  },
  {
   "cell_type": "code",
   "execution_count": null,
   "id": "e066a1b2-b2f4-43fd-9949-875e26c8bb2d",
   "metadata": {},
   "outputs": [],
   "source": []
  }
 ],
 "metadata": {
  "kernelspec": {
   "display_name": "Python",
   "language": "python",
   "name": "conda-env-python-py"
  },
  "language_info": {
   "codemirror_mode": {
    "name": "ipython",
    "version": 3
   },
   "file_extension": ".py",
   "mimetype": "text/x-python",
   "name": "python",
   "nbconvert_exporter": "python",
   "pygments_lexer": "ipython3",
   "version": "3.7.12"
  }
 },
 "nbformat": 4,
 "nbformat_minor": 5
}
